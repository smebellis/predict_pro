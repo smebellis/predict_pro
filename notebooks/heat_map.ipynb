{
 "cells": [
  {
   "cell_type": "code",
   "execution_count": 70,
   "metadata": {},
   "outputs": [],
   "source": [
    "import pandas as pd\n",
    "import seaborn as sns\n",
    "import matplotlib.pyplot as plt\n",
    "import matplotlib.patches as mpatches"
   ]
  },
  {
   "cell_type": "code",
   "execution_count": 46,
   "metadata": {},
   "outputs": [],
   "source": [
    "df = pd.read_csv('/home/smebellis/ece5831_final_project/processed_data/post_processing_clustered.csv')"
   ]
  },
  {
   "cell_type": "code",
   "execution_count": 47,
   "metadata": {},
   "outputs": [],
   "source": [
    "df['PERIOD'] = df['WEEKDAY'] + '-' + df['TIME_PERIODS']"
   ]
  },
  {
   "cell_type": "code",
   "execution_count": 57,
   "metadata": {},
   "outputs": [],
   "source": [
    "# Step 2: Convert Traffic Status to Numeric Values\n",
    "status_mapping = {'Light': 1, 'Medium': 2, 'Heavy': 3}\n",
    "df['Traffic_Status_Numeric'] = df['TRAFFIC_STATUS'].map(status_mapping)"
   ]
  },
  {
   "cell_type": "code",
   "execution_count": 58,
   "metadata": {},
   "outputs": [],
   "source": [
    "# Step 3: Aggregate the Data to Handle Duplicates\n",
    "# Here we take the average if there are multiple entries for the same Period and District\n",
    "df_agg = df.groupby(['PERIOD', 'DISTRIC_CLUSTER'])['Traffic_Status_Numeric'].mean().reset_index()"
   ]
  },
  {
   "cell_type": "code",
   "execution_count": 61,
   "metadata": {},
   "outputs": [],
   "source": [
    "ordered_periods = ['Monday-Morning', 'Monday-Afternoon', 'Monday-Night', 'Tuesday-Morning', 'Tuesday-Afternoon', 'Tuesday-Night', 'Wednesday-Morning', 'Wednesday-Afternoon', 'Wednesday-Night', 'Thursday-Morning', 'Thursday-Afternoon', 'Thursday-Night', 'Friday-Morning', 'Friday-Afternoon', 'Friday-Night', 'Saturday-Morning', 'Saturday-Afternoon', 'Saturday-Night', 'Sunday-Morning', 'Sunday-Afternoon', 'Sunday-Night']"
   ]
  },
  {
   "cell_type": "code",
   "execution_count": 64,
   "metadata": {},
   "outputs": [],
   "source": [
    "# Step 4: Pivot the DataFrame to have districts as columns and periods as rows\n",
    "heatmap_data = df_agg.pivot(index='PERIOD', columns='DISTRIC_CLUSTER', values='Traffic_Status_Numeric')"
   ]
  },
  {
   "cell_type": "code",
   "execution_count": 65,
   "metadata": {},
   "outputs": [],
   "source": [
    "# Reindex the pivot table to have the periods in the desired order\n",
    "heatmap_data = heatmap_data.reindex(ordered_periods)"
   ]
  },
  {
   "cell_type": "code",
   "execution_count": null,
   "metadata": {},
   "outputs": [],
   "source": [
    "# Step 5: Plot the Heatmap\n",
    "plt.figure(figsize=(12, 10))\n",
    "sns.heatmap(heatmap_data, annot=True, cmap='RdYlGn_r', linewidths=0.5, cbar_kws={'label': 'Traffic Status'}, yticklabels=True)\n",
    "\n",
    "# Step 7: Add a Key/Legend for Time Periods\n",
    "# Create custom legend handles to represent morning, afternoon, and night\n",
    "\n",
    "# Needs to adjust the time frame to match what was clustered \n",
    "morning_patch = mpatches.Patch(color='lightblue', label='Morning: 5:00 AM - 11:00 AM')\n",
    "afternoon_patch = mpatches.Patch(color='blue', label='Afternoon: 12:00 PM - 8:00 PM')\n",
    "night_patch = mpatches.Patch(color='darkblue', label='Night: 9:00 PM - 4:00 AM')\n",
    "\n",
    "# Add the legend to the plot\n",
    "plt.legend(handles=[morning_patch, afternoon_patch, night_patch], title='Time Periods', loc='lower left', bbox_to_anchor=(1, 1))\n",
    "# Customize the plot\n",
    "plt.title('Traffic Flow Heat Map')\n",
    "plt.ylabel('Time Period')\n",
    "plt.xlabel('District Cluster')\n",
    "\n",
    "# Show the plot\n",
    "plt.tight_layout()\n",
    "plt.show()"
   ]
  },
  {
   "cell_type": "code",
   "execution_count": null,
   "metadata": {},
   "outputs": [],
   "source": []
  }
 ],
 "metadata": {
  "kernelspec": {
   "display_name": "predict_pro",
   "language": "python",
   "name": "python3"
  },
  "language_info": {
   "codemirror_mode": {
    "name": "ipython",
    "version": 3
   },
   "file_extension": ".py",
   "mimetype": "text/x-python",
   "name": "python",
   "nbconvert_exporter": "python",
   "pygments_lexer": "ipython3",
   "version": "3.11.10"
  }
 },
 "nbformat": 4,
 "nbformat_minor": 2
}
