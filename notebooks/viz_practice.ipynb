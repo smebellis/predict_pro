{
 "cells": [
  {
   "cell_type": "code",
   "execution_count": 1,
   "metadata": {},
   "outputs": [],
   "source": [
    "from utils.helper import file_load_large_csv\n",
    "import matplotlib.pyplot as plt\n",
    "import numpy as np\n",
    "import json\n",
    "import geopandas as gpd\n",
    "from shapely.geometry import LineString, Point\n",
    "import plotly.express as px\n",
    "import pandas as pd\n",
    "import folium\n",
    "import ast"
   ]
  },
  {
   "cell_type": "code",
   "execution_count": 2,
   "metadata": {},
   "outputs": [],
   "source": [
    "df = file_load_large_csv('/home/smebellis/ece5831_final_project/src/processed_data/update_taxi_trajectory1.csv')\n",
    "df_orig = file_load_large_csv('/home/smebellis/ece5831_final_project/data/train.csv')"
   ]
  },
  {
   "cell_type": "code",
   "execution_count": null,
   "metadata": {},
   "outputs": [],
   "source": [
    "# Split the dataframe into smaller ones\n",
    "# Which makes a list of smaller df\n",
    "dfs = np.array_split(df, 100)\n",
    "dfs_org = np.array_split(df, 100)"
   ]
  },
  {
   "cell_type": "code",
   "execution_count": 4,
   "metadata": {},
   "outputs": [],
   "source": [
    "# Make one df to play with\n",
    "df1 = dfs[0]\n",
    "df1_orig = dfs_org[0]"
   ]
  },
  {
   "cell_type": "code",
   "execution_count": 22,
   "metadata": {},
   "outputs": [],
   "source": [
    "central_dispatch = df1.loc[df1.CALL_TYPE=='A']\n",
    "specific_stand = df1.loc[df1.CALL_TYPE=='B']\n",
    "random_street = df1.loc[df1.CALL_TYPE=='C']"
   ]
  },
  {
   "cell_type": "code",
   "execution_count": 23,
   "metadata": {},
   "outputs": [],
   "source": [
    "A_count = central_dispatch.shape[0]\n",
    "B_count = specific_stand.shape[0]\n",
    "C_count = random_street.shape[0]"
   ]
  },
  {
   "cell_type": "code",
   "execution_count": null,
   "metadata": {},
   "outputs": [],
   "source": [
    "labels=['taxi central based','taxi stand based','taxi random street']\n",
    "sizes=[A_count,B_count,C_count]\n",
    "colors = ['gold', 'yellowgreen', 'lightcoral']\n",
    "explode = (0.1, 0, 0)\n",
    "plt.pie(sizes, explode=explode, labels=labels, colors=colors,\n",
    "autopct='%1.1f%%', shadow=True, startangle=120)\n",
    "\n",
    "plt.axis('equal')\n",
    "plt.show()"
   ]
  },
  {
   "cell_type": "code",
   "execution_count": null,
   "metadata": {},
   "outputs": [],
   "source": [
    "# Define which slice to \"explode\" by setting the 'pull' manually\n",
    "# Plotly Express doesn't support 'pull' directly, so we use Plotly Graph Objects for that part\n",
    "labels=['taxi central based','taxi stand based','taxi random street']\n",
    "sizes=[A_count,B_count,C_count]\n",
    "colors = ['gold', 'yellowgreen', 'lightcoral']\n",
    "\n",
    "df2 = pd.DataFrame({\n",
    "    'Taxi Type': labels,\n",
    "    'Count': sizes\n",
    "})\n",
    "\n",
    "fig = px.pie(\n",
    "    df2, \n",
    "    names='Taxi Type', \n",
    "    values='Count', \n",
    "    title='Distribution of Taxi Types',\n",
    "    color='Taxi Type',\n",
    "    color_discrete_sequence=colors,\n",
    "    hole=0.0  # Set to 0 for a standard pie chart; increase for a donut chart\n",
    ")\n",
    "\n",
    "# Update traces to add pull\n",
    "fig.update_traces(\n",
    "    pull=[0.1, 0, 0],  # Equivalent to explode in Matplotlib\n",
    "    hoverinfo='label+percent+value',\n",
    "    textinfo='percent+label',\n",
    "    textfont_size=14,\n",
    "    marker=dict(line=dict(color='#FFFFFF', width=2))  # Adds white borders between slices\n",
    ")\n",
    "\n",
    "# Customize layout\n",
    "fig.update_layout(\n",
    "    title={\n",
    "        'text': \"Distribution of Taxi Types\",\n",
    "        'y':0.95,\n",
    "        'x':0.5,\n",
    "        'xanchor': 'center',\n",
    "        'yanchor': 'top',\n",
    "        'font': dict(size=24)\n",
    "    },\n",
    "    legend=dict(\n",
    "        orientation=\"h\",\n",
    "        yanchor=\"bottom\",\n",
    "        y=-0.2,\n",
    "        xanchor=\"center\",\n",
    "        x=0.5,\n",
    "        font=dict(size=12)\n",
    "    ),\n",
    "    margin=dict(t=100, l=50, r=50, b=150),\n",
    "    template='plotly_white'\n",
    ")\n",
    "\n",
    "# Display the figure\n",
    "fig.show()"
   ]
  },
  {
   "cell_type": "code",
   "execution_count": 5,
   "metadata": {},
   "outputs": [],
   "source": [
    "df1_orig['POLYLINE'] = df1_orig['POLYLINE'].apply(ast.literal_eval)"
   ]
  },
  {
   "cell_type": "code",
   "execution_count": null,
   "metadata": {},
   "outputs": [],
   "source": [
    "eval(df1.POLYLINE.iloc[0])[0]"
   ]
  },
  {
   "cell_type": "code",
   "execution_count": 10,
   "metadata": {},
   "outputs": [],
   "source": [
    "df1['TRIP_PATH'] = df1['POLYLINE'].apply(eval)"
   ]
  },
  {
   "cell_type": "code",
   "execution_count": 15,
   "metadata": {},
   "outputs": [],
   "source": [
    "df1['START_COORDS'] = df1.apply(lambda row: (row['START_LONG'], row['START_LAT']), axis=1)"
   ]
  },
  {
   "cell_type": "code",
   "execution_count": null,
   "metadata": {},
   "outputs": [],
   "source": [
    "df1"
   ]
  },
  {
   "cell_type": "code",
   "execution_count": null,
   "metadata": {},
   "outputs": [],
   "source": [
    "m = folium.Map(location=[41.155020, -8.630775], zoom_start=15)\n",
    "\n",
    "kw = {\n",
    "    \"color\": \"blue\",\n",
    "    \"line_cap\": \"round\",\n",
    "    \"fill\": True,\n",
    "    \"fill_color\": \"red\",\n",
    "    \"weight\": 5,\n",
    "    \n",
    "}\n",
    "\n",
    "\n",
    "folium.Rectangle(\n",
    "    bounds=[[41.172523, -8.664262], [41.210809, -8.732013]],\n",
    "    line_join=\"round\",\n",
    "    dash_array=\"5, 5\",\n",
    "    **kw,\n",
    ").add_to(m)\n",
    "\n",
    "\n"
   ]
  },
  {
   "cell_type": "code",
   "execution_count": null,
   "metadata": {},
   "outputs": [],
   "source": [
    "m"
   ]
  },
  {
   "cell_type": "code",
   "execution_count": null,
   "metadata": {},
   "outputs": [],
   "source": []
  }
 ],
 "metadata": {
  "kernelspec": {
   "display_name": "netdetect",
   "language": "python",
   "name": "python3"
  },
  "language_info": {
   "codemirror_mode": {
    "name": "ipython",
    "version": 3
   },
   "file_extension": ".py",
   "mimetype": "text/x-python",
   "name": "python",
   "nbconvert_exporter": "python",
   "pygments_lexer": "ipython3",
   "version": "3.10.14"
  }
 },
 "nbformat": 4,
 "nbformat_minor": 2
}
