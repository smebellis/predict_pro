{
 "cells": [
  {
   "cell_type": "code",
   "execution_count": 8,
   "metadata": {},
   "outputs": [],
   "source": [
    "import pandas as pd\n",
    "import numpy as np\n",
    "import ast\n",
    "from geopy.distance import geodesic\n",
    "import polyline\n",
    "import json\n",
    "import matplotlib.pyplot as plt\n",
    "from matplotlib.colors import LogNorm\n",
    "import copy\n",
    "from sklearn.preprocessing import LabelEncoder\n",
    "from sklearn.naive_bayes import GaussianNB\n",
    "from sklearn.metrics import accuracy_score, f1_score\n",
    "from sklearn.model_selection import train_test_split\n",
    "from imblearn.over_sampling import SMOTE\n",
    "from sklearn.ensemble import RandomForestClassifier\n",
    "from sklearn.metrics import accuracy_score, classification_report\n",
    "import xgboost as xgb"
   ]
  },
  {
   "cell_type": "code",
   "execution_count": 2,
   "metadata": {},
   "outputs": [],
   "source": [
    "df = pd.read_csv('/home/smebellis/ece5831_final_project/processed_data/post_processing_clustered.csv') \n",
    "sampled_df = df.sample(n=1000, random_state=42)"
   ]
  },
  {
   "cell_type": "code",
   "execution_count": 5,
   "metadata": {},
   "outputs": [],
   "source": [
    "# Features and target\n",
    "X = df[['WEEKDAY', 'TIME_PERIODS', 'DISTRIC_CLUSTER']]\n",
    "y = df['TRAFFIC_STATUS']\n",
    "\n",
    "# Splitting data into training and testing sets\n",
    "X_train, X_test, y_train, y_test = train_test_split(X, y, test_size=0.1, random_state=42)"
   ]
  },
  {
   "cell_type": "code",
   "execution_count": 6,
   "metadata": {},
   "outputs": [],
   "source": [
    "le_trip_day = LabelEncoder()\n",
    "le_trip_time = LabelEncoder()\n",
    "le_trip_district = LabelEncoder()\n",
    "le_traffic = LabelEncoder()\n"
   ]
  },
  {
   "cell_type": "code",
   "execution_count": 7,
   "metadata": {},
   "outputs": [],
   "source": [
    "X_train['WEEKDAY'] = le_trip_day.fit_transform(X_train['WEEKDAY'])\n",
    "X_train['TIME_PERIODS'] = le_trip_time.fit_transform(X_train['TIME_PERIODS'])\n",
    "X_train['DISTRIC_CLUSTER'] = le_trip_district.fit_transform(X_train['DISTRIC_CLUSTER'])\n",
    "y_train = le_traffic.fit_transform(y_train)\n",
    "\n",
    "\n",
    "X_test['WEEKDAY'] = le_trip_day.transform(X_test['WEEKDAY'])\n",
    "X_test['TIME_PERIODS'] = le_trip_time.transform(X_test['TIME_PERIODS'])\n",
    "X_test['DISTRIC_CLUSTER'] = le_trip_district.transform(X_test['DISTRIC_CLUSTER'])\n",
    "y_test = le_traffic.transform(y_test)"
   ]
  },
  {
   "cell_type": "code",
   "execution_count": 9,
   "metadata": {},
   "outputs": [],
   "source": [
    "dtrain = xgb.DMatrix(X_train, label=y_train)\n",
    "dtest = xgb.DMatrix(X_test, label=y_test)"
   ]
  },
  {
   "cell_type": "code",
   "execution_count": 10,
   "metadata": {},
   "outputs": [],
   "source": [
    "params = {\n",
    "    'objective': 'reg:logistic',\n",
    "    'max_depth': 6,  # You can tune this hyperparameter\n",
    "    'eta': 0.1,      # Learning rate, can be tuned\n",
    "    'subsample': 0.8,\n",
    "    'colsample_bytree': 0.8,\n",
    "    'eval_metric': 'rmse'\n",
    "}"
   ]
  },
  {
   "cell_type": "code",
   "execution_count": 13,
   "metadata": {},
   "outputs": [
    {
     "name": "stdout",
     "output_type": "stream",
     "text": [
      "[0]\ttrain-rmse:0.31427\teval-rmse:0.31530\n",
      "[1]\ttrain-rmse:0.31323\teval-rmse:0.31428\n",
      "[2]\ttrain-rmse:0.31238\teval-rmse:0.31346\n",
      "[3]\ttrain-rmse:0.31167\teval-rmse:0.31276\n",
      "[4]\ttrain-rmse:0.31109\teval-rmse:0.31220\n",
      "[5]\ttrain-rmse:0.31063\teval-rmse:0.31175\n",
      "[6]\ttrain-rmse:0.31024\teval-rmse:0.31137\n",
      "[7]\ttrain-rmse:0.30994\teval-rmse:0.31108\n",
      "[8]\ttrain-rmse:0.30969\teval-rmse:0.31084\n",
      "[9]\ttrain-rmse:0.30948\teval-rmse:0.31064\n",
      "[10]\ttrain-rmse:0.30930\teval-rmse:0.31047\n",
      "[11]\ttrain-rmse:0.30916\teval-rmse:0.31034\n",
      "[12]\ttrain-rmse:0.30905\teval-rmse:0.31023\n",
      "[13]\ttrain-rmse:0.30895\teval-rmse:0.31014\n",
      "[14]\ttrain-rmse:0.30887\teval-rmse:0.31007\n",
      "[15]\ttrain-rmse:0.30881\teval-rmse:0.31001\n",
      "[16]\ttrain-rmse:0.30876\teval-rmse:0.30996\n",
      "[17]\ttrain-rmse:0.30872\teval-rmse:0.30993\n",
      "[18]\ttrain-rmse:0.30869\teval-rmse:0.30990\n",
      "[19]\ttrain-rmse:0.30866\teval-rmse:0.30987\n",
      "[20]\ttrain-rmse:0.30864\teval-rmse:0.30986\n",
      "[21]\ttrain-rmse:0.30862\teval-rmse:0.30984\n",
      "[22]\ttrain-rmse:0.30860\teval-rmse:0.30983\n",
      "[23]\ttrain-rmse:0.30859\teval-rmse:0.30982\n",
      "[24]\ttrain-rmse:0.30858\teval-rmse:0.30981\n",
      "[25]\ttrain-rmse:0.30857\teval-rmse:0.30980\n",
      "[26]\ttrain-rmse:0.30857\teval-rmse:0.30980\n",
      "[27]\ttrain-rmse:0.30856\teval-rmse:0.30979\n",
      "[28]\ttrain-rmse:0.30856\teval-rmse:0.30979\n",
      "[29]\ttrain-rmse:0.30855\teval-rmse:0.30979\n",
      "[30]\ttrain-rmse:0.30855\teval-rmse:0.30978\n",
      "[31]\ttrain-rmse:0.30855\teval-rmse:0.30978\n",
      "[32]\ttrain-rmse:0.30854\teval-rmse:0.30978\n",
      "[33]\ttrain-rmse:0.30854\teval-rmse:0.30978\n",
      "[34]\ttrain-rmse:0.30854\teval-rmse:0.30978\n",
      "[35]\ttrain-rmse:0.30854\teval-rmse:0.30978\n",
      "[36]\ttrain-rmse:0.30854\teval-rmse:0.30978\n",
      "[37]\ttrain-rmse:0.30854\teval-rmse:0.30978\n",
      "[38]\ttrain-rmse:0.30854\teval-rmse:0.30978\n",
      "[39]\ttrain-rmse:0.30854\teval-rmse:0.30978\n",
      "[40]\ttrain-rmse:0.30854\teval-rmse:0.30978\n",
      "[41]\ttrain-rmse:0.30854\teval-rmse:0.30978\n",
      "[42]\ttrain-rmse:0.30853\teval-rmse:0.30978\n",
      "[43]\ttrain-rmse:0.30853\teval-rmse:0.30978\n",
      "[44]\ttrain-rmse:0.30853\teval-rmse:0.30978\n",
      "[45]\ttrain-rmse:0.30853\teval-rmse:0.30978\n",
      "[46]\ttrain-rmse:0.30853\teval-rmse:0.30978\n",
      "[47]\ttrain-rmse:0.30853\teval-rmse:0.30978\n",
      "[48]\ttrain-rmse:0.30853\teval-rmse:0.30978\n",
      "[49]\ttrain-rmse:0.30853\teval-rmse:0.30978\n",
      "[50]\ttrain-rmse:0.30853\teval-rmse:0.30978\n",
      "[51]\ttrain-rmse:0.30853\teval-rmse:0.30978\n",
      "[52]\ttrain-rmse:0.30853\teval-rmse:0.30978\n",
      "[53]\ttrain-rmse:0.30853\teval-rmse:0.30978\n"
     ]
    }
   ],
   "source": [
    "# Ensure labels are binary (0 or 1)\n",
    "y_train_binary = (y_train > 0).astype(int)\n",
    "y_test_binary = (y_test > 0).astype(int)\n",
    "\n",
    "dtrain = xgb.DMatrix(X_train, label=y_train_binary)\n",
    "dtest = xgb.DMatrix(X_test, label=y_test_binary)\n",
    "\n",
    "evals = [(dtrain, 'train'), (dtest, 'eval')]\n",
    "model = xgb.train(params, dtrain, num_boost_round=1000, evals=evals, early_stopping_rounds=10)\n"
   ]
  },
  {
   "cell_type": "code",
   "execution_count": 14,
   "metadata": {},
   "outputs": [
    {
     "data": {
      "text/plain": [
       "<Axes: title={'center': 'Feature importance'}, xlabel='F score', ylabel='Features'>"
      ]
     },
     "execution_count": 14,
     "metadata": {},
     "output_type": "execute_result"
    },
    {
     "data": {
      "image/png": "[encoded data removed]",
      "text/plain": [
       "<Figure size 640x480 with 1 Axes>"
      ]
     },
     "metadata": {},
     "output_type": "display_data"
    }
   ],
   "source": [
    "xgb.plot_importance(model)"
   ]
  },
  {
   "cell_type": "code",
   "execution_count": null,
   "metadata": {},
   "outputs": [],
   "source": []
  }
 ],
 "metadata": {
  "kernelspec": {
   "display_name": "predict_pro",
   "language": "python",
   "name": "python3"
  },
  "language_info": {
   "codemirror_mode": {
    "name": "ipython",
    "version": 3
   },
   "file_extension": ".py",
   "mimetype": "text/x-python",
   "name": "python",
   "nbconvert_exporter": "python",
   "pygments_lexer": "ipython3",
   "version": "3.11.10"
  }
 },
 "nbformat": 4,
 "nbformat_minor": 2
}
