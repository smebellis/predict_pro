{
 "cells": [
  {
   "cell_type": "code",
   "execution_count": 1,
   "metadata": {},
   "outputs": [],
   "source": [
    "import pandas as pd\n",
    "import numpy as np\n",
    "import ast\n",
    "from geopy.distance import geodesic\n",
    "import polyline\n",
    "import json\n",
    "import matplotlib.pyplot as plt\n",
    "from matplotlib.colors import LogNorm\n",
    "import copy\n",
    "from sklearn.preprocessing import LabelEncoder, OrdinalEncoder\n",
    "from sklearn.naive_bayes import GaussianNB\n",
    "from sklearn.metrics import accuracy_score, f1_score\n",
    "from sklearn.model_selection import train_test_split\n",
    "from imblearn.over_sampling import SMOTE\n",
    "from sklearn.ensemble import RandomForestClassifier\n",
    "from sklearn.metrics import accuracy_score, classification_report\n",
    "import xgboost as xgb"
   ]
  },
  {
   "cell_type": "code",
   "execution_count": 2,
   "metadata": {},
   "outputs": [],
   "source": [
    "df = pd.read_csv('/home/smebellis/ece5831_final_project/processed_data/clustered_dataset.csv') \n",
    "sampled_df = df.sample(n=1000, random_state=42)"
   ]
  },
  {
   "cell_type": "code",
   "execution_count": 3,
   "metadata": {},
   "outputs": [],
   "source": [
    "# Features and target\n",
    "X = df[['WEEKDAY', 'TIME_PERIODS', 'DISTRICT_CLUSTER']]\n",
    "y = df['TRAFFIC_STATUS']\n",
    "\n",
    "# Splitting data into training and testing sets\n",
    "X_train, X_test, y_train, y_test = train_test_split(X, y, test_size=0.1, random_state=42)"
   ]
  },
  {
   "cell_type": "code",
   "execution_count": 4,
   "metadata": {},
   "outputs": [],
   "source": [
    "# Initialize encoders\n",
    "le_traffic = LabelEncoder()\n",
    "oe_features = OrdinalEncoder()\n",
    "\n",
    "# Encoding Target Variable\n",
    "y_train = le_traffic.fit_transform(y_train)\n",
    "y_test = le_traffic.transform(y_test)\n",
    "\n",
    "# Selecting the feature columns to encode\n",
    "feature_columns = ['WEEKDAY', 'TIME_PERIODS', 'DISTRICT_CLUSTER']\n",
    "\n",
    "# Fit and transform on training data\n",
    "X_train[feature_columns] = oe_features.fit_transform(X_train[feature_columns])\n",
    "\n",
    "# Transform on test data\n",
    "X_test[feature_columns] = oe_features.transform(X_test[feature_columns])"
   ]
  },
  {
   "cell_type": "code",
   "execution_count": 5,
   "metadata": {},
   "outputs": [],
   "source": [
    "dtrain = xgb.DMatrix(X_train, label=y_train)\n",
    "dtest = xgb.DMatrix(X_test, label=y_test)"
   ]
  },
  {
   "cell_type": "code",
   "execution_count": 6,
   "metadata": {},
   "outputs": [],
   "source": [
    "params = {\n",
    "    'objective': 'reg:logistic',\n",
    "    'max_depth': 6,  # You can tune this hyperparameter\n",
    "    'eta': 0.1,      # Learning rate, can be tuned\n",
    "    'subsample': 0.8,\n",
    "    'colsample_bytree': 0.8,\n",
    "    'eval_metric': 'rmse'\n",
    "}"
   ]
  },
  {
   "cell_type": "code",
   "execution_count": 7,
   "metadata": {},
   "outputs": [
    {
     "name": "stdout",
     "output_type": "stream",
     "text": [
      "[0]\ttrain-rmse:0.49647\teval-rmse:0.49652\n",
      "[1]\ttrain-rmse:0.49619\teval-rmse:0.49624\n",
      "[2]\ttrain-rmse:0.49595\teval-rmse:0.49601\n",
      "[3]\ttrain-rmse:0.49432\teval-rmse:0.49439\n",
      "[4]\ttrain-rmse:0.49297\teval-rmse:0.49306\n",
      "[5]\ttrain-rmse:0.49282\teval-rmse:0.49291\n",
      "[6]\ttrain-rmse:0.49173\teval-rmse:0.49184\n",
      "[7]\ttrain-rmse:0.49163\teval-rmse:0.49173\n",
      "[8]\ttrain-rmse:0.49154\teval-rmse:0.49165\n",
      "[9]\ttrain-rmse:0.49068\teval-rmse:0.49080\n",
      "[10]\ttrain-rmse:0.48999\teval-rmse:0.49012\n",
      "[11]\ttrain-rmse:0.48943\teval-rmse:0.48956\n",
      "[12]\ttrain-rmse:0.48897\teval-rmse:0.48911\n",
      "[13]\ttrain-rmse:0.48858\teval-rmse:0.48874\n",
      "[14]\ttrain-rmse:0.48827\teval-rmse:0.48843\n",
      "[15]\ttrain-rmse:0.48801\teval-rmse:0.48819\n",
      "[16]\ttrain-rmse:0.48781\teval-rmse:0.48798\n",
      "[17]\ttrain-rmse:0.48764\teval-rmse:0.48782\n",
      "[18]\ttrain-rmse:0.48750\teval-rmse:0.48769\n",
      "[19]\ttrain-rmse:0.48748\teval-rmse:0.48767\n",
      "[20]\ttrain-rmse:0.48737\teval-rmse:0.48756\n",
      "[21]\ttrain-rmse:0.48728\teval-rmse:0.48748\n",
      "[22]\ttrain-rmse:0.48720\teval-rmse:0.48741\n",
      "[23]\ttrain-rmse:0.48715\teval-rmse:0.48735\n",
      "[24]\ttrain-rmse:0.48713\teval-rmse:0.48734\n",
      "[25]\ttrain-rmse:0.48711\teval-rmse:0.48732\n",
      "[26]\ttrain-rmse:0.48706\teval-rmse:0.48727\n",
      "[27]\ttrain-rmse:0.48702\teval-rmse:0.48724\n",
      "[28]\ttrain-rmse:0.48698\teval-rmse:0.48721\n",
      "[29]\ttrain-rmse:0.48697\teval-rmse:0.48720\n",
      "[30]\ttrain-rmse:0.48697\teval-rmse:0.48719\n",
      "[31]\ttrain-rmse:0.48694\teval-rmse:0.48717\n",
      "[32]\ttrain-rmse:0.48693\teval-rmse:0.48716\n",
      "[33]\ttrain-rmse:0.48691\teval-rmse:0.48714\n",
      "[34]\ttrain-rmse:0.48691\teval-rmse:0.48714\n",
      "[35]\ttrain-rmse:0.48690\teval-rmse:0.48713\n",
      "[36]\ttrain-rmse:0.48690\teval-rmse:0.48713\n",
      "[37]\ttrain-rmse:0.48688\teval-rmse:0.48712\n",
      "[38]\ttrain-rmse:0.48687\teval-rmse:0.48711\n",
      "[39]\ttrain-rmse:0.48687\teval-rmse:0.48710\n",
      "[40]\ttrain-rmse:0.48686\teval-rmse:0.48709\n",
      "[41]\ttrain-rmse:0.48685\teval-rmse:0.48709\n",
      "[42]\ttrain-rmse:0.48684\teval-rmse:0.48708\n",
      "[43]\ttrain-rmse:0.48683\teval-rmse:0.48708\n",
      "[44]\ttrain-rmse:0.48683\teval-rmse:0.48707\n",
      "[45]\ttrain-rmse:0.48683\teval-rmse:0.48707\n",
      "[46]\ttrain-rmse:0.48682\teval-rmse:0.48707\n",
      "[47]\ttrain-rmse:0.48681\teval-rmse:0.48706\n",
      "[48]\ttrain-rmse:0.48681\teval-rmse:0.48706\n",
      "[49]\ttrain-rmse:0.48681\teval-rmse:0.48706\n",
      "[50]\ttrain-rmse:0.48680\teval-rmse:0.48706\n",
      "[51]\ttrain-rmse:0.48680\teval-rmse:0.48706\n",
      "[52]\ttrain-rmse:0.48680\teval-rmse:0.48705\n",
      "[53]\ttrain-rmse:0.48680\teval-rmse:0.48705\n",
      "[54]\ttrain-rmse:0.48680\teval-rmse:0.48705\n",
      "[55]\ttrain-rmse:0.48680\teval-rmse:0.48705\n",
      "[56]\ttrain-rmse:0.48680\teval-rmse:0.48705\n",
      "[57]\ttrain-rmse:0.48680\teval-rmse:0.48705\n",
      "[58]\ttrain-rmse:0.48680\teval-rmse:0.48705\n",
      "[59]\ttrain-rmse:0.48679\teval-rmse:0.48705\n",
      "[60]\ttrain-rmse:0.48679\teval-rmse:0.48705\n",
      "[61]\ttrain-rmse:0.48679\teval-rmse:0.48705\n",
      "[62]\ttrain-rmse:0.48679\teval-rmse:0.48705\n",
      "[63]\ttrain-rmse:0.48679\teval-rmse:0.48705\n",
      "[64]\ttrain-rmse:0.48679\teval-rmse:0.48705\n",
      "[65]\ttrain-rmse:0.48679\teval-rmse:0.48705\n",
      "[66]\ttrain-rmse:0.48678\teval-rmse:0.48704\n",
      "[67]\ttrain-rmse:0.48678\teval-rmse:0.48704\n",
      "[68]\ttrain-rmse:0.48678\teval-rmse:0.48704\n",
      "[69]\ttrain-rmse:0.48678\teval-rmse:0.48704\n",
      "[70]\ttrain-rmse:0.48678\teval-rmse:0.48704\n",
      "[71]\ttrain-rmse:0.48678\teval-rmse:0.48704\n",
      "[72]\ttrain-rmse:0.48678\teval-rmse:0.48704\n",
      "[73]\ttrain-rmse:0.48678\teval-rmse:0.48704\n",
      "[74]\ttrain-rmse:0.48678\teval-rmse:0.48704\n",
      "[75]\ttrain-rmse:0.48678\teval-rmse:0.48704\n",
      "[76]\ttrain-rmse:0.48678\teval-rmse:0.48704\n",
      "[77]\ttrain-rmse:0.48678\teval-rmse:0.48704\n",
      "[78]\ttrain-rmse:0.48678\teval-rmse:0.48704\n",
      "[79]\ttrain-rmse:0.48678\teval-rmse:0.48704\n",
      "[80]\ttrain-rmse:0.48678\teval-rmse:0.48704\n",
      "[81]\ttrain-rmse:0.48678\teval-rmse:0.48704\n",
      "[82]\ttrain-rmse:0.48678\teval-rmse:0.48704\n",
      "[83]\ttrain-rmse:0.48678\teval-rmse:0.48704\n",
      "[84]\ttrain-rmse:0.48678\teval-rmse:0.48704\n",
      "[85]\ttrain-rmse:0.48678\teval-rmse:0.48704\n",
      "[86]\ttrain-rmse:0.48678\teval-rmse:0.48704\n",
      "[87]\ttrain-rmse:0.48678\teval-rmse:0.48704\n",
      "[88]\ttrain-rmse:0.48678\teval-rmse:0.48704\n",
      "[89]\ttrain-rmse:0.48678\teval-rmse:0.48704\n",
      "[90]\ttrain-rmse:0.48678\teval-rmse:0.48704\n",
      "[91]\ttrain-rmse:0.48678\teval-rmse:0.48704\n",
      "[92]\ttrain-rmse:0.48678\teval-rmse:0.48704\n",
      "[93]\ttrain-rmse:0.48678\teval-rmse:0.48704\n"
     ]
    }
   ],
   "source": [
    "# Ensure labels are binary (0 or 1)\n",
    "y_train_binary = (y_train > 0).astype(int)\n",
    "y_test_binary = (y_test > 0).astype(int)\n",
    "\n",
    "dtrain = xgb.DMatrix(X_train, label=y_train_binary)\n",
    "dtest = xgb.DMatrix(X_test, label=y_test_binary)\n",
    "\n",
    "evals = [(dtrain, 'train'), (dtest, 'eval')]\n",
    "model = xgb.train(params, dtrain, num_boost_round=1000, evals=evals, early_stopping_rounds=10)\n"
   ]
  },
  {
   "cell_type": "code",
   "execution_count": 8,
   "metadata": {},
   "outputs": [
    {
     "data": {
      "text/plain": [
       "<Axes: title={'center': 'Feature importance'}, xlabel='F score', ylabel='Features'>"
      ]
     },
     "execution_count": 8,
     "metadata": {},
     "output_type": "execute_result"
    },
    {
     "data": {
      "image/png": "[encoded data removed]",
      "text/plain": [
       "<Figure size 640x480 with 1 Axes>"
      ]
     },
     "metadata": {},
     "output_type": "display_data"
    }
   ],
   "source": [
    "xgb.plot_importance(model)"
   ]
  },
  {
   "cell_type": "code",
   "execution_count": null,
   "metadata": {},
   "outputs": [],
   "source": []
  }
 ],
 "metadata": {
  "kernelspec": {
   "display_name": "predict_pro",
   "language": "python",
   "name": "python3"
  },
  "language_info": {
   "codemirror_mode": {
    "name": "ipython",
    "version": 3
   },
   "file_extension": ".py",
   "mimetype": "text/x-python",
   "name": "python",
   "nbconvert_exporter": "python",
   "pygments_lexer": "ipython3",
   "version": "3.11.10"
  }
 },
 "nbformat": 4,
 "nbformat_minor": 2
}
